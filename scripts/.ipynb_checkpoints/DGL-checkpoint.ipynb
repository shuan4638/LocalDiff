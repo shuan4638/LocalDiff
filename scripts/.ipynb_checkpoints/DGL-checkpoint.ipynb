{
 "cells": [
  {
   "cell_type": "code",
   "execution_count": 35,
   "id": "2f869f73",
   "metadata": {},
   "outputs": [
    {
     "name": "stdout",
     "output_type": "stream",
     "text": [
      "Graph(num_nodes=6, num_edges=18,\n",
      "      ndata_schemes={'h': Scheme(shape=(74,), dtype=torch.float32)}\n",
      "      edata_schemes={'e': Scheme(shape=(13,), dtype=torch.float32)})\n"
     ]
    }
   ],
   "source": [
    "from rdkit import Chem\n",
    "from dgllife.utils import CanonicalAtomFeaturizer, CanonicalBondFeaturizer, mol_to_bigraph\n",
    "\n",
    "node_featurizer = CanonicalAtomFeaturizer()\n",
    "edge_featurizer = CanonicalBondFeaturizer(self_loop=True)\n",
    "\n",
    "smiles = '[C:1]([c:2]1[n:3][o:4][n:5][n:6]1)([H:7])([H:8])[H:9]'\n",
    "mol = Chem.MolFromSmiles(smiles)\n",
    "graph = mol_to_bigraph(mol, node_featurizer=node_featurizer, edge_featurizer=edge_featurizer, add_self_loop=True, canonical_atom_order=False)\n",
    "print (graph)"
   ]
  },
  {
   "cell_type": "code",
   "execution_count": 36,
   "id": "0bd6e2d1",
   "metadata": {},
   "outputs": [
    {
     "data": {
      "image/png": "[encoded data removed]",
      "text/plain": [
       "<rdkit.Chem.rdchem.Mol at 0x18e1fb1c0>"
      ]
     },
     "execution_count": 36,
     "metadata": {},
     "output_type": "execute_result"
    }
   ],
   "source": [
    "mol"
   ]
  },
  {
   "cell_type": "code",
   "execution_count": 37,
   "id": "fba6cb6c",
   "metadata": {},
   "outputs": [
    {
     "name": "stdout",
     "output_type": "stream",
     "text": [
      "(tensor([0, 1, 1, 2, 2, 3, 3, 4, 4, 5, 5, 1, 0, 1, 2, 3, 4, 5],\n",
      "       dtype=torch.int32),\n",
      " tensor([1, 0, 2, 1, 3, 2, 4, 3, 5, 4, 1, 5, 0, 1, 2, 3, 4, 5],\n",
      "       dtype=torch.int32))\n"
     ]
    }
   ],
   "source": [
    "from pprint import pprint\n",
    "pprint (graph.edges())"
   ]
  },
  {
   "cell_type": "code",
   "execution_count": 38,
   "id": "64ca4dd2",
   "metadata": {},
   "outputs": [
    {
     "data": {
      "image/png": "[encoded data removed]",
      "text/plain": [
       "<rdkit.Chem.rdchem.Mol at 0x18e1fb1c0>"
      ]
     },
     "execution_count": 38,
     "metadata": {},
     "output_type": "execute_result"
    }
   ],
   "source": [
    "def remap(mol):\n",
    "    for atom in mol.GetAtoms():\n",
    "        atom.SetAtomMapNum(atom.GetIdx())\n",
    "    return mol\n",
    "remap(mol)"
   ]
  },
  {
   "cell_type": "code",
   "execution_count": 39,
   "id": "d3d4e71b",
   "metadata": {},
   "outputs": [],
   "source": [
    "import torch\n",
    "import torch.nn as nn\n",
    "from dgllife.model import MPNNGNN\n",
    "\n",
    "class GNNNet(nn.Module):\n",
    "    def __init__(self,\n",
    "                 node_in_feats = 74,\n",
    "                 edge_in_feats = 13,\n",
    "                 node_out_feats = 128,\n",
    "                 edge_hidden_feats = 32,\n",
    "                 num_step_message_passing = 3):\n",
    "        super(GNNNet, self).__init__()\n",
    "                \n",
    "        self.mpnn = MPNNGNN(node_in_feats=node_in_feats,\n",
    "                           node_out_feats=node_out_feats,\n",
    "                           edge_in_feats=edge_in_feats,\n",
    "                           edge_hidden_feats=edge_hidden_feats,\n",
    "                           num_step_message_passing=num_step_message_passing)\n",
    "        \n",
    "\n",
    "    def forward(self, g, node_feats, edge_feats):\n",
    "        atom_feats = self.mpnn(g, node_feats, edge_feats)\n",
    "\n",
    "        return atom_feats\n",
    "    \n",
    "def predict(graph, net):\n",
    "    node_feats = graph.ndata.pop('h')\n",
    "    edge_feats = graph.edata.pop('e')\n",
    "    return net(graph, node_feats, edge_feats)"
   ]
  },
  {
   "cell_type": "code",
   "execution_count": 40,
   "id": "bedfb222",
   "metadata": {},
   "outputs": [
    {
     "name": "stdout",
     "output_type": "stream",
     "text": [
      "torch.Size([6, 128])\n"
     ]
    }
   ],
   "source": [
    "net = GNNNet()\n",
    "atom_feats = predict(graph, net)\n",
    "print (atom_feats.size())"
   ]
  },
  {
   "cell_type": "code",
   "execution_count": 43,
   "id": "f4acc6d0",
   "metadata": {},
   "outputs": [],
   "source": [
    "rsmi = '[C:1]([c:2]1[n:3][o:4][n:5][n:6]1)([H:7])([H:8])[H:9]'\n",
    "psmi = '[C:1]1([H:7])([H:8])/[C:2](=[N:3]\\[H:9])[N:6]1[N:5]=[O:4]'\n",
    "rmol = Chem.MolFromSmiles(rsmi)\n",
    "pmol = Chem.MolFromSmiles(psmi)\n",
    "rgraph = mol_to_bigraph(rmol, node_featurizer=node_featurizer, edge_featurizer=edge_featurizer, add_self_loop=True, canonical_atom_order=False)\n",
    "pgraph = mol_to_bigraph(pmol, node_featurizer=node_featurizer, edge_featurizer=edge_featurizer, add_self_loop=True, canonical_atom_order=False)"
   ]
  },
  {
   "cell_type": "code",
   "execution_count": 44,
   "id": "bc998d11",
   "metadata": {},
   "outputs": [
    {
     "ename": "RuntimeError",
     "evalue": "The size of tensor a (7) must match the size of tensor b (6) at non-singleton dimension 0",
     "output_type": "error",
     "traceback": [
      "\u001b[0;31m---------------------------------------------------------------------------\u001b[0m",
      "\u001b[0;31mRuntimeError\u001b[0m                              Traceback (most recent call last)",
      "\u001b[0;32m/var/folders/5j/tj9pc4dx5d52nzmbm3h0mnxh0000gn/T/ipykernel_3479/1847575962.py\u001b[0m in \u001b[0;36m<module>\u001b[0;34m\u001b[0m\n\u001b[1;32m      2\u001b[0m \u001b[0mratom_feats\u001b[0m \u001b[0;34m=\u001b[0m \u001b[0mpredict\u001b[0m\u001b[0;34m(\u001b[0m\u001b[0mrgraph\u001b[0m\u001b[0;34m,\u001b[0m \u001b[0mnet\u001b[0m\u001b[0;34m)\u001b[0m\u001b[0;34m\u001b[0m\u001b[0;34m\u001b[0m\u001b[0m\n\u001b[1;32m      3\u001b[0m \u001b[0mpatom_feats\u001b[0m \u001b[0;34m=\u001b[0m \u001b[0mpredict\u001b[0m\u001b[0;34m(\u001b[0m\u001b[0mpgraph\u001b[0m\u001b[0;34m,\u001b[0m \u001b[0mnet\u001b[0m\u001b[0;34m)\u001b[0m\u001b[0;34m\u001b[0m\u001b[0;34m\u001b[0m\u001b[0m\n\u001b[0;32m----> 4\u001b[0;31m \u001b[0mdiff_feats\u001b[0m \u001b[0;34m=\u001b[0m \u001b[0mpatom_feats\u001b[0m \u001b[0;34m-\u001b[0m \u001b[0mratom_feats\u001b[0m\u001b[0;34m\u001b[0m\u001b[0;34m\u001b[0m\u001b[0m\n\u001b[0m\u001b[1;32m      5\u001b[0m \u001b[0mprint\u001b[0m \u001b[0;34m(\u001b[0m\u001b[0mdiff_feats\u001b[0m\u001b[0;34m.\u001b[0m\u001b[0msize\u001b[0m\u001b[0;34m(\u001b[0m\u001b[0;34m)\u001b[0m\u001b[0;34m)\u001b[0m\u001b[0;34m\u001b[0m\u001b[0;34m\u001b[0m\u001b[0m\n",
      "\u001b[0;31mRuntimeError\u001b[0m: The size of tensor a (7) must match the size of tensor b (6) at non-singleton dimension 0"
     ]
    }
   ],
   "source": [
    "net = GNNNet()\n",
    "ratom_feats = predict(rgraph, net)\n",
    "patom_feats = predict(pgraph, net)\n",
    "diff_feats = patom_feats - ratom_feats\n",
    "print (diff_feats.size())"
   ]
  },
  {
   "cell_type": "code",
   "execution_count": 51,
   "id": "719afd8b",
   "metadata": {},
   "outputs": [
    {
     "name": "stdout",
     "output_type": "stream",
     "text": [
      "torch.Size([6, 128])\n"
     ]
    }
   ],
   "source": [
    "atom_p2r = {0: 0, 1: 1, 2: 2, 4: 5, 5: 4, 6: 3}\n",
    "diff_feats = []\n",
    "for pidx, ridx in atom_p2r.items():\n",
    "    diff_feats.append(patom_feats[pidx]- ratom_feats[ridx])\n",
    "diff_feats = torch.stack(diff_feats)\n",
    "print (diff_feats.size())"
   ]
  },
  {
   "cell_type": "code",
   "execution_count": 62,
   "id": "2a649277",
   "metadata": {},
   "outputs": [],
   "source": [
    "def get_diff(ratom_feats, patom_feats, atom_p2r):\n",
    "    diff_feats = []\n",
    "    for pidx, ridx in atom_p2r.items():\n",
    "        diff_feats.append(patom_feats[pidx]- ratom_feats[ridx])\n",
    "    diff_feats = torch.stack(diff_feats)\n",
    "    return diff_feats\n",
    "diff_feats = get_diff(ratom_feats, patom_feats, atom_p2r)"
   ]
  },
  {
   "cell_type": "code",
   "execution_count": 63,
   "id": "b9754ee2",
   "metadata": {},
   "outputs": [],
   "source": [
    "linear = nn.Linear(128, 128)\n",
    "diff_feats = linear(diff_feats)"
   ]
  },
  {
   "cell_type": "code",
   "execution_count": 65,
   "id": "5b4cb0d1",
   "metadata": {},
   "outputs": [],
   "source": [
    "ea_feats = torch.sum(diff_feats, dim = 0)"
   ]
  },
  {
   "cell_type": "code",
   "execution_count": 67,
   "id": "815c5075",
   "metadata": {},
   "outputs": [
    {
     "data": {
      "text/plain": [
       "tensor([-0.1684], grad_fn=<AddBackward0>)"
      ]
     },
     "execution_count": 67,
     "metadata": {},
     "output_type": "execute_result"
    }
   ],
   "source": [
    "linear = nn.Linear(128, 1)\n",
    "output = linear(ea_feats)\n",
    "output"
   ]
  },
  {
   "cell_type": "code",
   "execution_count": 84,
   "id": "cfc1eee5",
   "metadata": {},
   "outputs": [],
   "source": [
    "import torch\n",
    "import torch.nn as nn\n",
    "from dgllife.model import MPNNGNN\n",
    "\n",
    "def get_diff(ratom_feats, patom_feats, atom_p2r):\n",
    "    diff_feats = []\n",
    "    for pidx, ridx in atom_p2r.items():\n",
    "        diff_feats.append(patom_feats[pidx]- ratom_feats[ridx])\n",
    "    diff_feats = torch.stack(diff_feats)\n",
    "    return diff_feats\n",
    "\n",
    "class GNNNet(nn.Module):\n",
    "    def __init__(self,\n",
    "                 node_in_feats = 74,\n",
    "                 edge_in_feats = 13,\n",
    "                 node_out_feats = 128,\n",
    "                 edge_hidden_feats = 32,\n",
    "                 num_step_message_passing = 3):\n",
    "        super(GNNNet, self).__init__()\n",
    "                \n",
    "        self.mpnn = MPNNGNN(node_in_feats=node_in_feats,\n",
    "                           node_out_feats=node_out_feats,\n",
    "                           edge_in_feats=edge_in_feats,\n",
    "                           edge_hidden_feats=edge_hidden_feats,\n",
    "                           num_step_message_passing=num_step_message_passing)\n",
    "        \n",
    "        self.linear_diff = nn.Linear(node_out_feats, node_out_feats)\n",
    "        self.linear_ea = nn.Linear(node_out_feats, 1)\n",
    "\n",
    "    def forward(self, g, node_feats, edge_feats, atom_p2r):\n",
    "        rg, pg = g\n",
    "        rnode_feats, pnode_feats = node_feats\n",
    "        redge_feats, pedge_feats = edge_feats\n",
    "        \n",
    "        ratom_feats = self.mpnn(rg, rnode_feats, redge_feats)\n",
    "        patom_feats = self.mpnn(pg, pnode_feats, pedge_feats)\n",
    "        diff_feats = get_diff(ratom_feats, patom_feats, atom_p2r)\n",
    "        diff_feats = self.linear_diff(diff_feats)\n",
    "        ea_feats = torch.sum(diff_feats, dim = 0)\n",
    "        ea = self.linear_ea(ea_feats)\n",
    "        return ea"
   ]
  },
  {
   "cell_type": "code",
   "execution_count": 90,
   "id": "064092a5",
   "metadata": {},
   "outputs": [],
   "source": [
    "def match_atomidx(rmol, pmol):\n",
    "    atom_map2idx = {}\n",
    "    atom_p2r = {}\n",
    "    for atom in rmol.GetAtoms():\n",
    "        if atom.GetSymbol() == 'H':\n",
    "            continue\n",
    "        atom_idx = atom.GetIdx()\n",
    "        atom_map = atom.GetAtomMapNum()\n",
    "        atom_map2idx[atom_map] = atom_idx\n",
    "    for atom in pmol.GetAtoms():\n",
    "        if atom.GetSymbol() == 'H':\n",
    "            continue\n",
    "        atom_idx = atom.GetIdx()\n",
    "        atom_map = atom.GetAtomMapNum()\n",
    "        atom_p2r[atom_idx] = atom_map2idx[atom_map]\n",
    "    return atom_p2r\n",
    "\n",
    "def predict(net, rsmi, psmi):\n",
    "    rmol = Chem.MolFromSmiles(rsmi)\n",
    "    pmol = Chem.MolFromSmiles(psmi)\n",
    "    atom_p2r = match_atomidx(rmol, pmol)\n",
    "    rgraph = mol_to_bigraph(rmol, node_featurizer=node_featurizer, edge_featurizer=edge_featurizer, add_self_loop=True, canonical_atom_order=False)\n",
    "    pgraph = mol_to_bigraph(pmol, node_featurizer=node_featurizer, edge_featurizer=edge_featurizer, add_self_loop=True, canonical_atom_order=False)\n",
    "    rnode_feats = rgraph.ndata.pop('h')\n",
    "    redge_feats = rgraph.edata.pop('e')\n",
    "    pnode_feats = pgraph.ndata.pop('h')\n",
    "    pedge_feats = pgraph.edata.pop('e')\n",
    "    return net((rgraph, pgraph), (rnode_feats, pnode_feats), (redge_feats, pedge_feats), atom_p2r)"
   ]
  },
  {
   "cell_type": "code",
   "execution_count": 91,
   "id": "ac986a15",
   "metadata": {},
   "outputs": [
    {
     "data": {
      "text/plain": [
       "tensor([-0.6140], grad_fn=<AddBackward0>)"
      ]
     },
     "execution_count": 91,
     "metadata": {},
     "output_type": "execute_result"
    }
   ],
   "source": [
    "net = GNNNet()\n",
    "rsmi = '[C:1]([c:2]1[n:3][o:4][n:5][n:6]1)([H:7])([H:8])[H:9]'\n",
    "psmi = '[C:1]1([H:7])([H:8])/[C:2](=[N:3]\\[H:9])[N:6]1[N:5]=[O:4]'\n",
    "atom_p2r = {0: 0, 1: 1, 2: 2, 4: 5, 5: 4, 6: 3}\n",
    "predict(net, rsmi, psmi)"
   ]
  },
  {
   "cell_type": "code",
   "execution_count": 94,
   "id": "5b44f9c9",
   "metadata": {},
   "outputs": [
    {
     "data": {
      "text/plain": [
       "tensor(6131.3970, grad_fn=<MseLossBackward0>)"
      ]
     },
     "execution_count": 94,
     "metadata": {},
     "output_type": "execute_result"
    }
   ],
   "source": [
    "ea = 77.6892865680395\n",
    "criterion = nn.MSELoss()\n",
    "output = predict(net, rsmi, psmi)\n",
    "criterion(output, torch.FloatTensor([ea]))"
   ]
  }
 ],
 "metadata": {
  "kernelspec": {
   "display_name": "rdenv",
   "language": "python",
   "name": "rdenv"
  },
  "language_info": {
   "codemirror_mode": {
    "name": "ipython",
    "version": 3
   },
   "file_extension": ".py",
   "mimetype": "text/x-python",
   "name": "python",
   "nbconvert_exporter": "python",
   "pygments_lexer": "ipython3",
   "version": "3.9.7"
  }
 },
 "nbformat": 4,
 "nbformat_minor": 5
}
